{
 "cells": [
  {
   "cell_type": "code",
   "execution_count": 53,
   "metadata": {},
   "outputs": [],
   "source": [
    "# Load libraries\n",
    "from pandas import read_csv\n",
    "from pandas.plotting import scatter_matrix\n",
    "from pandas.plotting import table\n",
    "from matplotlib import pyplot\n",
    "from sklearn.model_selection import train_test_split\n",
    "from sklearn.model_selection import cross_val_score\n",
    "from sklearn.model_selection import StratifiedKFold\n",
    "from sklearn.metrics import classification_report\n",
    "from sklearn.metrics import confusion_matrix\n",
    "from sklearn.metrics import accuracy_score\n",
    "from sklearn.linear_model import LogisticRegression\n",
    "from sklearn.tree import DecisionTreeClassifier\n",
    "from sklearn.neighbors import KNeighborsClassifier\n",
    "from sklearn.discriminant_analysis import LinearDiscriminantAnalysis\n",
    "from sklearn.naive_bayes import GaussianNB\n",
    "from sklearn.svm import SVC\n",
    "from numpy import dtype"
   ]
  },
  {
   "cell_type": "code",
   "execution_count": 47,
   "metadata": {},
   "outputs": [],
   "source": [
    "# Load dataset\n",
    "url = \"https://raw.githubusercontent.com/Yogessh3/Kisan-Dosth/master/Crops.csv\"\n",
    "names = ['min_price','max_price','modal_price','district','region','commodity']\n",
    "dataset = read_csv(url, names=names)"
   ]
  },
  {
   "cell_type": "code",
   "execution_count": 37,
   "metadata": {},
   "outputs": [
    {
     "name": "stdout",
     "output_type": "stream",
     "text": [
      "(184, 6)\n"
     ]
    }
   ],
   "source": [
    "# shape\n",
    "print(dataset.shape)"
   ]
  },
  {
   "cell_type": "code",
   "execution_count": 48,
   "metadata": {},
   "outputs": [
    {
     "name": "stdout",
     "output_type": "stream",
     "text": [
      "    min_price  max_price  modal_price    district          region  \\\n",
      "0        2800       3000         2900  Coimbatore       Anaimalai   \n",
      "1        3000       3200         3100  Coimbatore           Annur   \n",
      "2        5800       7200         6300  Coimbatore      Coimbatore   \n",
      "3        2000       3000         2500  Coimbatore       Karamadai   \n",
      "4        3050       3150         3100  Coimbatore    Madathukulam   \n",
      "5       10250      10300        10275  Coimbatore    Madathukulam   \n",
      "6        1900       1950         1925  Coimbatore    Madathukulam   \n",
      "7        1680       1720         1700  Coimbatore    Madathukulam   \n",
      "8        3100       3200         3150  Coimbatore         Negamam   \n",
      "9        2040       2240         2140  Coimbatore        Palladam   \n",
      "10       9000      10000         9500  Coimbatore  Pethappampatti   \n",
      "11       1800       1950         1850  Coimbatore  Pethappampatti   \n",
      "12       2600       2900         2720  Coimbatore        Pollachi   \n",
      "13       2100       2700         2400  Coimbatore        Pongalur   \n",
      "14       2170       2370         2270  Coimbatore     Pudupalayam   \n",
      "15       2700       2900         2800  Coimbatore         Senjeri   \n",
      "16       5000       5340         5100  Coimbatore           Sevur   \n",
      "17       2700       2900         2800  Coimbatore    Thondamuthur   \n",
      "18       2700       2800         2750  Coimbatore       Udumalpet   \n",
      "19       8900      10250         9350  Coimbatore       Udumalpet   \n",
      "\n",
      "              commodity  \n",
      "0               Coconut  \n",
      "1               Tobacco  \n",
      "2              Turmeric  \n",
      "3               Coconut  \n",
      "4               Coconut  \n",
      "5                 Copra  \n",
      "6                 Maize  \n",
      "7   Paddy(Dhan)(Common)  \n",
      "8               Coconut  \n",
      "9               Coconut  \n",
      "10                Copra  \n",
      "11                Maize  \n",
      "12              Coconut  \n",
      "13              Coconut  \n",
      "14              Coconut  \n",
      "15              Coconut  \n",
      "16            Groundnut  \n",
      "17              Coconut  \n",
      "18              Coconut  \n",
      "19                Copra  \n"
     ]
    }
   ],
   "source": [
    "# head\n",
    "print(dataset.head(20))"
   ]
  },
  {
   "cell_type": "code",
   "execution_count": 57,
   "metadata": {},
   "outputs": [
    {
     "name": "stdout",
     "output_type": "stream",
     "text": [
      "<class 'pandas.core.frame.DataFrame'>\n",
      "RangeIndex: 183 entries, 0 to 182\n",
      "Data columns (total 6 columns):\n",
      "min_price      183 non-null int64\n",
      "max_price      183 non-null int64\n",
      "modal_price    183 non-null int64\n",
      "district       183 non-null object\n",
      "region         183 non-null object\n",
      "commodity      183 non-null object\n",
      "dtypes: int64(3), object(3)\n",
      "memory usage: 8.7+ KB\n",
      "None\n"
     ]
    }
   ],
   "source": [
    "print(dataset.info())"
   ]
  },
  {
   "cell_type": "code",
   "execution_count": 34,
   "metadata": {},
   "outputs": [
    {
     "name": "stdout",
     "output_type": "stream",
     "text": [
      "       min_price max_price modal_price    district        region  \\\n",
      "count        184       184         184         184           184   \n",
      "unique       150       153         159          19            86   \n",
      "top         1500      1800        1850  Villupuram  Vikkiravandi   \n",
      "freq           5         5           4          67            11   \n",
      "\n",
      "                  commodity  \n",
      "count                   184  \n",
      "unique                   26  \n",
      "top     Paddy(Dhan)(Common)  \n",
      "freq                     53  \n"
     ]
    }
   ],
   "source": [
    "# descriptions\n",
    "print(dataset.describe())"
   ]
  },
  {
   "cell_type": "code",
   "execution_count": 59,
   "metadata": {},
   "outputs": [
    {
     "name": "stdout",
     "output_type": "stream",
     "text": [
      "min_price       int64\n",
      "max_price       int64\n",
      "modal_price     int64\n",
      "district       object\n",
      "region         object\n",
      "commodity      object\n",
      "dtype: object\n"
     ]
    }
   ],
   "source": [
    "print(dataset.dtypes)"
   ]
  },
  {
   "cell_type": "code",
   "execution_count": 60,
   "metadata": {},
   "outputs": [
    {
     "name": "stdout",
     "output_type": "stream",
     "text": [
      "commodity\n",
      "Black Gram (Urd Beans)(Whole)    11\n",
      "Cashewnuts                        1\n",
      "Coconut                          24\n",
      "Coconut Seed                      5\n",
      "Copra                             9\n",
      "Cotton                           10\n",
      "Cowpea (Lobia/Karamani)           1\n",
      "Gingelly Oil                      1\n",
      "Green Gram (Moong)(Whole)         6\n",
      "Groundnut                        13\n",
      "Hybrid Cumbu                      3\n",
      "Jowar(Sorghum)                    1\n",
      "Karamani                          1\n",
      "Kodo Millet(Varagu)               1\n",
      "Kulthi(Horse Gram)                2\n",
      "Maize                             9\n",
      "Paddy(Dhan)(Common)              53\n",
      "Ragi (Finger Millet)              7\n",
      "Sesamum(Sesame,Gingelly,Til)     10\n",
      "T.V. Cumbu                        3\n",
      "Tamarind Fruit                    3\n",
      "Tapioca                           1\n",
      "Thinai (Italian Millet)           1\n",
      "Tobacco                           1\n",
      "Turmeric                          6\n",
      "dtype: int64\n"
     ]
    }
   ],
   "source": [
    "# class distribution\n",
    "print(dataset.groupby('commodity').size())"
   ]
  },
  {
   "cell_type": "code",
   "execution_count": 61,
   "metadata": {},
   "outputs": [
    {
     "data": {
      "image/png": "[encoded data removed]",
      "text/plain": [
       "<Figure size 432x288 with 9 Axes>"
      ]
     },
     "metadata": {
      "needs_background": "light"
     },
     "output_type": "display_data"
    }
   ],
   "source": [
    "dataset.plot(kind='box', subplots=True, layout=(3,3))\n",
    "pyplot.show()"
   ]
  },
  {
   "cell_type": "code",
   "execution_count": 74,
   "metadata": {},
   "outputs": [
    {
     "data": {
      "image/png": "[encoded data removed]",
      "text/plain": [
       "<Figure size 432x288 with 4 Axes>"
      ]
     },
     "metadata": {
      "needs_background": "light"
     },
     "output_type": "display_data"
    }
   ],
   "source": [
    "dataset.plot(kind='bar', subplots=True, layout=(2,2))\n",
    "pyplot.show()"
   ]
  },
  {
   "cell_type": "code",
   "execution_count": 62,
   "metadata": {},
   "outputs": [
    {
     "data": {
      "image/png": "[encoded data removed]",
      "text/plain": [
       "<Figure size 432x288 with 4 Axes>"
      ]
     },
     "metadata": {
      "needs_background": "light"
     },
     "output_type": "display_data"
    }
   ],
   "source": [
    "dataset.hist()\n",
    "pyplot.show()"
   ]
  },
  {
   "cell_type": "code",
   "execution_count": 63,
   "metadata": {},
   "outputs": [
    {
     "data": {
      "image/png": "[encoded data removed]",
      "text/plain": [
       "<Figure size 432x288 with 9 Axes>"
      ]
     },
     "metadata": {
      "needs_background": "light"
     },
     "output_type": "display_data"
    }
   ],
   "source": [
    "# scatter plot matrix\n",
    "scatter_matrix(dataset)\n",
    "pyplot.show()"
   ]
  },
  {
   "cell_type": "code",
   "execution_count": 79,
   "metadata": {},
   "outputs": [],
   "source": [
    "pyplot.show()"
   ]
  },
  {
   "cell_type": "code",
   "execution_count": 80,
   "metadata": {},
   "outputs": [
    {
     "data": {
      "image/png": "[encoded data removed]",
      "text/plain": [
       "<Figure size 432x288 with 4 Axes>"
      ]
     },
     "metadata": {
      "needs_background": "light"
     },
     "output_type": "display_data"
    },
    {
     "data": {
      "image/png": "[encoded data removed]",
      "text/plain": [
       "<Figure size 432x288 with 4 Axes>"
      ]
     },
     "metadata": {
      "needs_background": "light"
     },
     "output_type": "display_data"
    },
    {
     "data": {
      "image/png": "[encoded data removed]",
      "text/plain": [
       "<Figure size 432x288 with 9 Axes>"
      ]
     },
     "metadata": {
      "needs_background": "light"
     },
     "output_type": "display_data"
    }
   ],
   "source": [
    "from pandas import read_csv\n",
    "from pandas.plotting import scatter_matrix\n",
    "from matplotlib import pyplot\n",
    "# Load dataset\n",
    "url = \"https://raw.githubusercontent.com/Yogessh3/Kisan-Dosth/master/Crops.csv\"\n",
    "names =['min_price','max_price','modal_price','district','region','commodity']\n",
    "dataset = read_csv(url, names=names)\n",
    "# box and whisker plots\n",
    "dataset.plot(kind='bar', subplots=True, layout=(2,2))\n",
    "pyplot.show()\n",
    "# histograms\n",
    "dataset.hist()\n",
    "pyplot.show()\n",
    "# scatter plot matrix\n",
    "scatter_matrix(dataset)\n",
    "pyplot.show()"
   ]
  },
  {
   "cell_type": "code",
   "execution_count": 93,
   "metadata": {},
   "outputs": [
    {
     "name": "stdout",
     "output_type": "stream",
     "text": [
      "[[2800 3000 2900]\n",
      " [3000 3200 3100]\n",
      " [5800 7200 6300]\n",
      " [2000 3000 2500]\n",
      " [3050 3150 3100]\n",
      " [10250 10300 10275]\n",
      " [1900 1950 1925]\n",
      " [1680 1720 1700]\n",
      " [3100 3200 3150]\n",
      " [2040 2240 2140]\n",
      " [9000 10000 9500]\n",
      " [1800 1950 1850]\n",
      " [2600 2900 2720]\n",
      " [2100 2700 2400]\n",
      " [2170 2370 2270]\n",
      " [2700 2900 2800]\n",
      " [5000 5340 5100]\n",
      " [2700 2900 2800]\n",
      " [2700 2800 2750]\n",
      " [8900 10250 9350]\n",
      " [1800 1900 1850]\n",
      " [4559 4789 4789]\n",
      " [6036 7361 7034]\n",
      " [1344 1555 1500]\n",
      " [1616 1616 1616]\n",
      " [1407 1407 1407]\n",
      " [4606 4806 4706]\n",
      " [6861 7240 7036]\n",
      " [4000 7500 6000]\n",
      " [1000 1500 1200]\n",
      " [5200 5700 5600]\n",
      " [4000 6800 5900]\n",
      " [1000 1500 1200]\n",
      " [4900 5200 5000]\n",
      " [1100 2100 1600]\n",
      " [1500 1700 1600]\n",
      " [1500 1800 1650]\n",
      " [2505 3275 3000]\n",
      " [2535 3410 2870]\n",
      " [2635 3000 2935]\n",
      " [9605 10205 10195]\n",
      " [11300 14677 14509]\n",
      " [10249 11791 11681]\n",
      " [2500 2600 2530]\n",
      " [2505 3275 3225]\n",
      " [5305 10915 8845]\n",
      " [1350 1480 1420]\n",
      " [1427 1692 1560]\n",
      " [1450 1750 1550]\n",
      " [1220 1410 1350]\n",
      " [1360 1480 1420]\n",
      " [1427 1692 1560]\n",
      " [1450 1750 1550]\n",
      " [1427 1692 1560]\n",
      " [1400 1407 1404]\n",
      " [1500 1950 1800]\n",
      " [1500 2100 1950]\n",
      " [1500 2100 1950]\n",
      " [5200 6200 5700]\n",
      " [1350 2150 1750]\n",
      " [1790 1850 1820]\n",
      " [1810 1870 1840]\n",
      " [6200 8000 7100]\n",
      " [4200 4300 4250]\n",
      " [3950 4080 4000]\n",
      " [2100 2200 2150]\n",
      " [1800 1900 1850]\n",
      " [2400 2500 2450]\n",
      " [9500 11500 10500]\n",
      " [5050 6050 5740]\n",
      " [6500 7500 6800]\n",
      " [8100 8700 8400]\n",
      " [8500 10400 9450]\n",
      " [6712 7288 6950]\n",
      " [7412 8609 8000]\n",
      " [2200 2500 2350]\n",
      " [1780 1830 1810]\n",
      " [9400 10300 9700]\n",
      " [210 230 220]\n",
      " [5600 5700 5650]\n",
      " [1980 2440 2210]\n",
      " [4600 5000 4800]\n",
      " [5000 5400 5200]\n",
      " [1160 1400 1280]\n",
      " [6940 7395 7120]\n",
      " [1790 1880 1840]\n",
      " [5600 5650 5625]\n",
      " [2080 2540 2310]\n",
      " [800 1200 950]\n",
      " [1900 2100 2000]\n",
      " [1750 1800 1780]\n",
      " [1750 1800 1780]\n",
      " [1750 1800 1780]\n",
      " [2200 2300 2250]\n",
      " [1800 1900 1850]\n",
      " [1900 2000 1950]\n",
      " [6203 6703 6620]\n",
      " [1258 1449 1356]\n",
      " [1286 1509 1448]\n",
      " [1385 1467 1426]\n",
      " [1140 1455 1298]\n",
      " [1448 1521 1485]\n",
      " [1453 1453 1453]\n",
      " [1406 1453 1430]\n",
      " [4315 4815 4715]\n",
      " [7030 9600 9300]\n",
      " [4350 4550 4550]\n",
      " [7013 7752 7361]\n",
      " [2189 3002 2881]\n",
      " [1589 2210 2210]\n",
      " [1092 1492 1400]\n",
      " [1652 1652 1652]\n",
      " [2089 2661 2640]\n",
      " [10100 10100 10100]\n",
      " [4569 4892 4792]\n",
      " [4412 7079 5062]\n",
      " [5786 7111 6961]\n",
      " [1400 1507 1453]\n",
      " [1772 2265 2019]\n",
      " [4870 4870 4870]\n",
      " [1867 2009 1900]\n",
      " [9300 9400 9350]\n",
      " [4809 4839 4824]\n",
      " [4250 4939 4595]\n",
      " [5080 5199 5140]\n",
      " [6336 6711 6524]\n",
      " [1673 1827 1700]\n",
      " [2200 2812 2506]\n",
      " [1336 1565 1451]\n",
      " [2400 2439 2420]\n",
      " [10799 11299 11049]\n",
      " [1851 1851 1851]\n",
      " [4769 5013 4866]\n",
      " [7999 11561 10649]\n",
      " [4199 4599 4302]\n",
      " [6886 6886 6886]\n",
      " [1989 1989 1989]\n",
      " [1509 1999 1849]\n",
      " [2599 2599 2599]\n",
      " [1910 2112 2029]\n",
      " [4769 4852 4811]\n",
      " [3539 3539 3539]\n",
      " [1948 1948 1948]\n",
      " [1252 1457 1355]\n",
      " [2312 2312 2312]\n",
      " [9011 11351 10181]\n",
      " [4009 5000 4802]\n",
      " [4080 4080 4080]\n",
      " [2630 2630 2630]\n",
      " [1953 2042 2029]\n",
      " [1548 1875 1789]\n",
      " [1180 1180 1180]\n",
      " [8640 10516 9391]\n",
      " [6236 7387 6724]\n",
      " [2222 2222 2222]\n",
      " [5987 6363 6263]\n",
      " [2400 2654 2400]\n",
      " [11199 11324 11261]\n",
      " [1318 1425 1376]\n",
      " [1358 1420 1395]\n",
      " [4699 4869 4779]\n",
      " [4696 4912 4896]\n",
      " [5179 5339 5209]\n",
      " [4723 5923 5555]\n",
      " [1800 1853 1825]\n",
      " [1248 1629 1420]\n",
      " [1270 1587 1515]\n",
      " [1700 1737 1715]\n",
      " [2529 2592 2579]\n",
      " [9774 10749 10049]\n",
      " [1200 1214 1205]\n",
      " [2559 2639 2619]\n",
      " [5071 5239 5109]\n",
      " [6549 6915 6584]\n",
      " [1393 1456 1424]\n",
      " [1392 1471 1431]\n",
      " [1579 1715 1643]\n",
      " [1400 1440 1420]\n",
      " [1608 1701 1655]\n",
      " [10636 11458 11124]\n",
      " [1969 1969 1969]\n",
      " [1650 1750 1700]\n",
      " [1750 1800 1775]]\n",
      "['Coimbatore' 'Coimbatore' 'Coimbatore' 'Coimbatore' 'Coimbatore'\n",
      " 'Coimbatore' 'Coimbatore' 'Coimbatore' 'Coimbatore' 'Coimbatore'\n",
      " 'Coimbatore' 'Coimbatore' 'Coimbatore' 'Coimbatore' 'Coimbatore'\n",
      " 'Coimbatore' 'Coimbatore' 'Coimbatore' 'Coimbatore' 'Coimbatore'\n",
      " 'Coimbatore' 'Cuddalore' 'Cuddalore' 'Cuddalore' 'Cuddalore' 'Cuddalore'\n",
      " 'Cuddalore' 'Cuddalore' 'Dharmapuri' 'Dharmapuri' 'Dharmapuri'\n",
      " 'Dharmapuri' 'Dharmapuri' 'Dharmapuri' 'Dindigul' 'Dindigul' 'Dindigul'\n",
      " 'Erode' 'Erode' 'Erode' 'Erode' 'Erode' 'Erode' 'Erode' 'Erode' 'Erode'\n",
      " 'Kancheepuram' 'Kancheepuram' 'Kancheepuram' 'Kancheepuram'\n",
      " 'Kancheepuram' 'Kancheepuram' 'Kancheepuram' 'Kancheepuram'\n",
      " 'Kancheepuram' 'Krishnagiri' 'Krishnagiri' 'Krishnagiri' 'Krishnagiri'\n",
      " 'Madurai' 'Madurai' 'Madurai' 'Madurai' 'Madurai' 'Madurai' 'Madurai'\n",
      " 'Madurai' 'Madurai' 'Nagercoil (Kannyiakumari)' 'Namakkal' 'Namakkal'\n",
      " 'Namakkal' 'Namakkal' 'Namakkal' 'Namakkal' 'Namakkal' 'Ramanathapuram'\n",
      " 'Salem' 'Salem' 'Salem' 'Salem' 'Salem' 'Salem' 'Salem' 'Salem' 'Salem'\n",
      " 'Salem' 'Salem' 'Sivaganga' 'Thanjavur' 'Thanjavur' 'Thanjavur'\n",
      " 'Thanjavur' 'Thanjavur' 'Thanjavur' 'Thanjavur' 'Thiruvannamalai'\n",
      " 'Thiruvannamalai' 'Thiruvannamalai' 'Vellore' 'Vellore' 'Vellore'\n",
      " 'Vellore' 'Vellore' 'Vellore' 'Vellore' 'Vellore' 'Vellore' 'Vellore'\n",
      " 'Vellore' 'Vellore' 'Vellore' 'Vellore' 'Vellore' 'Villupuram'\n",
      " 'Villupuram' 'Villupuram' 'Villupuram' 'Villupuram' 'Villupuram'\n",
      " 'Villupuram' 'Villupuram' 'Villupuram' 'Villupuram' 'Villupuram'\n",
      " 'Villupuram' 'Villupuram' 'Villupuram' 'Villupuram' 'Villupuram'\n",
      " 'Villupuram' 'Villupuram' 'Villupuram' 'Villupuram' 'Villupuram'\n",
      " 'Villupuram' 'Villupuram' 'Villupuram' 'Villupuram' 'Villupuram'\n",
      " 'Villupuram' 'Villupuram' 'Villupuram' 'Villupuram' 'Villupuram'\n",
      " 'Villupuram' 'Villupuram' 'Villupuram' 'Villupuram' 'Villupuram'\n",
      " 'Villupuram' 'Villupuram' 'Villupuram' 'Villupuram' 'Villupuram'\n",
      " 'Villupuram' 'Villupuram' 'Villupuram' 'Villupuram' 'Villupuram'\n",
      " 'Villupuram' 'Villupuram' 'Villupuram' 'Villupuram' 'Villupuram'\n",
      " 'Villupuram' 'Villupuram' 'Villupuram' 'Villupuram' 'Villupuram'\n",
      " 'Villupuram' 'Villupuram' 'Villupuram' 'Villupuram' 'Villupuram'\n",
      " 'Villupuram' 'Villupuram' 'Villupuram' 'Villupuram' 'Villupuram'\n",
      " 'Villupuram' 'Virudhunagar' 'Virudhunagar']\n"
     ]
    }
   ],
   "source": [
    "array = dataset.values\n",
    "X = array[:,0:3]\n",
    "y = array[:,3]\n",
    "print(X)\n",
    "print(y)"
   ]
  },
  {
   "cell_type": "code",
   "execution_count": 91,
   "metadata": {},
   "outputs": [],
   "source": [
    "# Split-out validation dataset\n",
    "array = dataset.values\n",
    "X = array[:,0:3]\n",
    "Y = array[:,3]\n",
    "X_train, X_validation, Y_train, Y_validation = train_test_split(X, Y, test_size=0.20, random_state=1)"
   ]
  },
  {
   "cell_type": "code",
   "execution_count": 92,
   "metadata": {},
   "outputs": [
    {
     "name": "stdout",
     "output_type": "stream",
     "text": [
      "LR: 0.342725 (0.009392)\n",
      "LDA: 0.344180 (0.016088)\n",
      "KNN: 0.315873 (0.084956)\n",
      "CART: 0.321958 (0.045362)\n",
      "NB: 0.274339 (0.081506)\n",
      "SVM: 0.379762 (0.028621)\n"
     ]
    },
    {
     "name": "stderr",
     "output_type": "stream",
     "text": [
      "/opt/conda/envs/Python36/lib/python3.6/site-packages/sklearn/model_selection/_split.py:652: Warning: The least populated class in y has only 1 members, which is too few. The minimum number of members in any class cannot be less than n_splits=3.\n",
      "  % (min_groups, self.n_splits)), Warning)\n",
      "/opt/conda/envs/Python36/lib/python3.6/site-packages/sklearn/model_selection/_split.py:652: Warning: The least populated class in y has only 1 members, which is too few. The minimum number of members in any class cannot be less than n_splits=3.\n",
      "  % (min_groups, self.n_splits)), Warning)\n",
      "/opt/conda/envs/Python36/lib/python3.6/site-packages/sklearn/model_selection/_split.py:652: Warning: The least populated class in y has only 1 members, which is too few. The minimum number of members in any class cannot be less than n_splits=3.\n",
      "  % (min_groups, self.n_splits)), Warning)\n",
      "/opt/conda/envs/Python36/lib/python3.6/site-packages/sklearn/model_selection/_split.py:652: Warning: The least populated class in y has only 1 members, which is too few. The minimum number of members in any class cannot be less than n_splits=3.\n",
      "  % (min_groups, self.n_splits)), Warning)\n",
      "/opt/conda/envs/Python36/lib/python3.6/site-packages/sklearn/model_selection/_split.py:652: Warning: The least populated class in y has only 1 members, which is too few. The minimum number of members in any class cannot be less than n_splits=3.\n",
      "  % (min_groups, self.n_splits)), Warning)\n",
      "/opt/conda/envs/Python36/lib/python3.6/site-packages/sklearn/model_selection/_split.py:652: Warning: The least populated class in y has only 1 members, which is too few. The minimum number of members in any class cannot be less than n_splits=3.\n",
      "  % (min_groups, self.n_splits)), Warning)\n"
     ]
    }
   ],
   "source": [
    "#Spot check algorthims\n",
    "models = []\n",
    "models.append(('LR', LogisticRegression(solver='liblinear', multi_class='ovr')))\n",
    "models.append(('LDA', LinearDiscriminantAnalysis()))\n",
    "models.append(('KNN', KNeighborsClassifier()))\n",
    "models.append(('CART', DecisionTreeClassifier()))\n",
    "models.append(('NB', GaussianNB()))\n",
    "models.append(('SVM', SVC(gamma='auto')))\n",
    "# evaluate each model in turn\n",
    "results = []\n",
    "names = []\n",
    "for name, model in models:\n",
    "\tkfold = StratifiedKFold(n_splits=3, random_state=1, shuffle=True)\n",
    "\tcv_results = cross_val_score(model, X_train, Y_train, cv=kfold, scoring='accuracy')\n",
    "\tresults.append(cv_results)\n",
    "\tnames.append(name)\n",
    "\tprint('%s: %f (%f)' % (name, cv_results.mean(), cv_results.std()))"
   ]
  },
  {
   "cell_type": "code",
   "execution_count": 94,
   "metadata": {},
   "outputs": [
    {
     "data": {
      "image/png": "[encoded data removed]",
      "text/plain": [
       "<Figure size 432x288 with 1 Axes>"
      ]
     },
     "metadata": {
      "needs_background": "light"
     },
     "output_type": "display_data"
    }
   ],
   "source": [
    "# Compare Algorithms\n",
    "pyplot.boxplot(results, labels=names)\n",
    "pyplot.title('Algorithm Comparison')\n",
    "pyplot.show()"
   ]
  },
  {
   "cell_type": "code",
   "execution_count": 96,
   "metadata": {},
   "outputs": [
    {
     "name": "stdout",
     "output_type": "stream",
     "text": [
      "[('LR', LogisticRegression(C=1.0, class_weight=None, dual=False, fit_intercept=True,\n",
      "          intercept_scaling=1, max_iter=100, multi_class='ovr',\n",
      "          n_jobs=None, penalty='l2', random_state=None, solver='liblinear',\n",
      "          tol=0.0001, verbose=0, warm_start=False)), ('LDA', LinearDiscriminantAnalysis(n_components=None, priors=None, shrinkage=None,\n",
      "              solver='svd', store_covariance=False, tol=0.0001)), ('KNN', KNeighborsClassifier(algorithm='auto', leaf_size=30, metric='minkowski',\n",
      "           metric_params=None, n_jobs=None, n_neighbors=5, p=2,\n",
      "           weights='uniform')), ('CART', DecisionTreeClassifier(class_weight=None, criterion='gini', max_depth=None,\n",
      "            max_features=None, max_leaf_nodes=None,\n",
      "            min_impurity_decrease=0.0, min_impurity_split=None,\n",
      "            min_samples_leaf=1, min_samples_split=2,\n",
      "            min_weight_fraction_leaf=0.0, presort=False, random_state=None,\n",
      "            splitter='best')), ('NB', GaussianNB(priors=None, var_smoothing=1e-09)), ('SVM', SVC(C=1.0, cache_size=200, class_weight=None, coef0=0.0,\n",
      "  decision_function_shape='ovr', degree=3, gamma='auto', kernel='rbf',\n",
      "  max_iter=-1, probability=False, random_state=None, shrinking=True,\n",
      "  tol=0.001, verbose=False))]\n",
      "LR: 0.408623 (0.127038)\n",
      "LDA: 0.399971 (0.142997)\n",
      "KNN: 0.314611 (0.109239)\n",
      "CART: 0.295750 (0.084704)\n"
     ]
    },
    {
     "name": "stderr",
     "output_type": "stream",
     "text": [
      "/opt/conda/envs/Python36/lib/python3.6/site-packages/sklearn/model_selection/_split.py:652: Warning: The least populated class in y has only 1 members, which is too few. The minimum number of members in any class cannot be less than n_splits=10.\n",
      "  % (min_groups, self.n_splits)), Warning)\n",
      "/opt/conda/envs/Python36/lib/python3.6/site-packages/sklearn/model_selection/_split.py:652: Warning: The least populated class in y has only 1 members, which is too few. The minimum number of members in any class cannot be less than n_splits=10.\n",
      "  % (min_groups, self.n_splits)), Warning)\n",
      "/opt/conda/envs/Python36/lib/python3.6/site-packages/sklearn/model_selection/_split.py:652: Warning: The least populated class in y has only 1 members, which is too few. The minimum number of members in any class cannot be less than n_splits=10.\n",
      "  % (min_groups, self.n_splits)), Warning)\n",
      "/opt/conda/envs/Python36/lib/python3.6/site-packages/sklearn/model_selection/_split.py:652: Warning: The least populated class in y has only 1 members, which is too few. The minimum number of members in any class cannot be less than n_splits=10.\n",
      "  % (min_groups, self.n_splits)), Warning)\n",
      "/opt/conda/envs/Python36/lib/python3.6/site-packages/sklearn/model_selection/_split.py:652: Warning: The least populated class in y has only 1 members, which is too few. The minimum number of members in any class cannot be less than n_splits=10.\n",
      "  % (min_groups, self.n_splits)), Warning)\n"
     ]
    },
    {
     "name": "stdout",
     "output_type": "stream",
     "text": [
      "NB: 0.286131 (0.126458)\n",
      "SVM: 0.431242 (0.147510)\n"
     ]
    },
    {
     "name": "stderr",
     "output_type": "stream",
     "text": [
      "/opt/conda/envs/Python36/lib/python3.6/site-packages/sklearn/model_selection/_split.py:652: Warning: The least populated class in y has only 1 members, which is too few. The minimum number of members in any class cannot be less than n_splits=10.\n",
      "  % (min_groups, self.n_splits)), Warning)\n"
     ]
    },
    {
     "data": {
      "image/png": "[encoded data removed]",
      "text/plain": [
       "<Figure size 432x288 with 1 Axes>"
      ]
     },
     "metadata": {
      "needs_background": "light"
     },
     "output_type": "display_data"
    }
   ],
   "source": [
    "# compare algorithms\n",
    "from pandas import read_csv\n",
    "from matplotlib import pyplot\n",
    "from sklearn.model_selection import train_test_split\n",
    "from sklearn.model_selection import cross_val_score\n",
    "from sklearn.model_selection import StratifiedKFold\n",
    "from sklearn.linear_model import LogisticRegression\n",
    "from sklearn.tree import DecisionTreeClassifier\n",
    "from sklearn.neighbors import KNeighborsClassifier\n",
    "from sklearn.discriminant_analysis import LinearDiscriminantAnalysis\n",
    "from sklearn.naive_bayes import GaussianNB\n",
    "from sklearn.svm import SVC\n",
    "# Load dataset\n",
    "url = \"https://raw.githubusercontent.com/Yogessh3/Kisan-Dosth/master/Crops.csv\"\n",
    "names =['min_price','max_price','modal_price','district','region','commodity']\n",
    "dataset = read_csv(url, names=names)\n",
    "# Split-out validation dataset\n",
    "array = dataset.values\n",
    "X = array[:,0:3]\n",
    "y = array[:,3]\n",
    "X_train, X_validation, Y_train, Y_validation = train_test_split(X, y, test_size=0.20, random_state=1, shuffle=True)\n",
    "# Spot Check Algorithms\n",
    "models = []\n",
    "models.append(('LR', LogisticRegression(solver='liblinear', multi_class='ovr')))\n",
    "models.append(('LDA', LinearDiscriminantAnalysis()))\n",
    "models.append(('KNN', KNeighborsClassifier()))\n",
    "models.append(('CART', DecisionTreeClassifier()))\n",
    "models.append(('NB', GaussianNB()))\n",
    "models.append(('SVM', SVC(gamma='auto')))\n",
    "print(models)\n",
    "# evaluate each model in turn\n",
    "results = []\n",
    "names = []\n",
    "for name, model in models:\n",
    "\tkfold = StratifiedKFold(n_splits=10, random_state=1)\n",
    "\tcv_results = cross_val_score(model, X_train, Y_train, cv=kfold, scoring='accuracy')\n",
    "\tresults.append(cv_results)\n",
    "\tnames.append(name)\n",
    "\tprint('%s: %f (%f)' % (name, cv_results.mean(), cv_results.std()))\n",
    "# Compare Algorithms\n",
    "pyplot.boxplot(results, labels=names)\n",
    "pyplot.title('Algorithm Comparison')\n",
    "pyplot.show()"
   ]
  },
  {
   "cell_type": "code",
   "execution_count": 97,
   "metadata": {},
   "outputs": [],
   "source": [
    "# Make predictions on validation dataset\n",
    "model = SVC(gamma='auto')\n",
    "model.fit(X_train, Y_train)\n",
    "predictions = model.predict(X_validation)"
   ]
  },
  {
   "cell_type": "code",
   "execution_count": 98,
   "metadata": {},
   "outputs": [
    {
     "name": "stdout",
     "output_type": "stream",
     "text": [
      "0.5405405405405406\n",
      "[[ 1  0  0  0  0  0  0  0  0  0  6]\n",
      " [ 0  1  0  0  0  0  0  0  0  0  1]\n",
      " [ 0  0  0  0  0  0  0  0  0  0  1]\n",
      " [ 0  0  0  0  0  0  0  0  0  0  2]\n",
      " [ 0  0  0  0  3  0  0  0  0  0  0]\n",
      " [ 0  0  0  0  0  1  0  0  0  0  0]\n",
      " [ 0  0  0  0  0  0  0  0  0  0  1]\n",
      " [ 0  0  0  0  0  0  0  0  0  0  2]\n",
      " [ 1  0  0  0  0  0  0  0  2  0  1]\n",
      " [ 0  0  0  0  0  0  0  0  0  0  2]\n",
      " [ 0  0  0  0  0  0  0  0  0  0 12]]\n",
      "              precision    recall  f1-score   support\n",
      "\n",
      "  Coimbatore       0.50      0.14      0.22         7\n",
      "  Dharmapuri       1.00      0.50      0.67         2\n",
      "    Dindigul       0.00      0.00      0.00         1\n",
      "       Erode       0.00      0.00      0.00         2\n",
      "Kancheepuram       1.00      1.00      1.00         3\n",
      " Krishnagiri       1.00      1.00      1.00         1\n",
      "     Madurai       0.00      0.00      0.00         1\n",
      "       Salem       0.00      0.00      0.00         2\n",
      "   Thanjavur       1.00      0.50      0.67         4\n",
      "     Vellore       0.00      0.00      0.00         2\n",
      "  Villupuram       0.43      1.00      0.60        12\n",
      "\n",
      "   micro avg       0.54      0.54      0.54        37\n",
      "   macro avg       0.45      0.38      0.38        37\n",
      "weighted avg       0.50      0.54      0.45        37\n",
      "\n"
     ]
    },
    {
     "name": "stderr",
     "output_type": "stream",
     "text": [
      "/opt/conda/envs/Python36/lib/python3.6/site-packages/sklearn/metrics/classification.py:1143: UndefinedMetricWarning: Precision and F-score are ill-defined and being set to 0.0 in labels with no predicted samples.\n",
      "  'precision', 'predicted', average, warn_for)\n"
     ]
    }
   ],
   "source": [
    "# Evaluate predictions\n",
    "print(accuracy_score(Y_validation, predictions))\n",
    "print(confusion_matrix(Y_validation, predictions))\n",
    "print(classification_report(Y_validation, predictions))"
   ]
  },
  {
   "cell_type": "code",
   "execution_count": 101,
   "metadata": {},
   "outputs": [
    {
     "name": "stdout",
     "output_type": "stream",
     "text": [
      "0.5405405405405406\n",
      "[[ 1  0  0  0  0  0  0  0  0  0  6]\n",
      " [ 0  1  0  0  0  0  0  0  0  0  1]\n",
      " [ 0  0  0  0  0  0  0  0  0  0  1]\n",
      " [ 0  0  0  0  0  0  0  0  0  0  2]\n",
      " [ 0  0  0  0  3  0  0  0  0  0  0]\n",
      " [ 0  0  0  0  0  1  0  0  0  0  0]\n",
      " [ 0  0  0  0  0  0  0  0  0  0  1]\n",
      " [ 0  0  0  0  0  0  0  0  0  0  2]\n",
      " [ 1  0  0  0  0  0  0  0  2  0  1]\n",
      " [ 0  0  0  0  0  0  0  0  0  0  2]\n",
      " [ 0  0  0  0  0  0  0  0  0  0 12]]\n",
      "              precision    recall  f1-score   support\n",
      "\n",
      "  Coimbatore       0.50      0.14      0.22         7\n",
      "  Dharmapuri       1.00      0.50      0.67         2\n",
      "    Dindigul       0.00      0.00      0.00         1\n",
      "       Erode       0.00      0.00      0.00         2\n",
      "Kancheepuram       1.00      1.00      1.00         3\n",
      " Krishnagiri       1.00      1.00      1.00         1\n",
      "     Madurai       0.00      0.00      0.00         1\n",
      "       Salem       0.00      0.00      0.00         2\n",
      "   Thanjavur       1.00      0.50      0.67         4\n",
      "     Vellore       0.00      0.00      0.00         2\n",
      "  Villupuram       0.43      1.00      0.60        12\n",
      "\n",
      "   micro avg       0.54      0.54      0.54        37\n",
      "   macro avg       0.45      0.38      0.38        37\n",
      "weighted avg       0.50      0.54      0.45        37\n",
      "\n"
     ]
    },
    {
     "name": "stderr",
     "output_type": "stream",
     "text": [
      "/opt/conda/envs/Python36/lib/python3.6/site-packages/sklearn/metrics/classification.py:1143: UndefinedMetricWarning: Precision and F-score are ill-defined and being set to 0.0 in labels with no predicted samples.\n",
      "  'precision', 'predicted', average, warn_for)\n"
     ]
    }
   ],
   "source": [
    "# make predictions\n",
    "from pandas import read_csv\n",
    "from sklearn.model_selection import train_test_split\n",
    "from sklearn.metrics import classification_report\n",
    "from sklearn.metrics import confusion_matrix\n",
    "from sklearn.metrics import accuracy_score\n",
    "from sklearn.svm import SVC\n",
    "# Load dataset\n",
    "url = \"https://raw.githubusercontent.com/Yogessh3/Kisan-Dosth/master/Crops.csv\"\n",
    "names = ['min_price','max_price','modal_price','district','region','commodity']\n",
    "dataset = read_csv(url, names=names)\n",
    "# Split-out validation dataset\n",
    "array = dataset.values\n",
    "X = array[:,0:3]\n",
    "y = array[:,3]\n",
    "X_train, X_validation, Y_train, Y_validation = train_test_split(X, y, test_size=0.20, random_state=1)\n",
    "# Make predictions on validation dataset\n",
    "model = SVC(gamma='auto')\n",
    "model.fit(X_train, Y_train)\n",
    "predictions = model.predict(X_validation)\n",
    "# Evaluate predictions\n",
    "print(accuracy_score(Y_validation, predictions))\n",
    "print(confusion_matrix(Y_validation, predictions))\n",
    "print(classification_report(Y_validation, predictions))"
   ]
  },
  {
   "cell_type": "code",
   "execution_count": null,
   "metadata": {},
   "outputs": [],
   "source": []
  }
 ],
 "metadata": {
  "kernelspec": {
   "display_name": "Python 3.6",
   "language": "python",
   "name": "python3"
  },
  "language_info": {
   "codemirror_mode": {
    "name": "ipython",
    "version": 3
   },
   "file_extension": ".py",
   "mimetype": "text/x-python",
   "name": "python",
   "nbconvert_exporter": "python",
   "pygments_lexer": "ipython3",
   "version": "3.6.9"
  }
 },
 "nbformat": 4,
 "nbformat_minor": 2
}
